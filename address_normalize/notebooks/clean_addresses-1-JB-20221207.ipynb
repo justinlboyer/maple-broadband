{
 "cells": [
  {
   "cell_type": "code",
   "execution_count": 1,
   "metadata": {},
   "outputs": [],
   "source": [
    "import numpy as np\n",
    "import pandas as pd\n",
    "\n",
    "from address_normalize.paths import DATA_DIR\n",
    "\n",
    "raw_dir = DATA_DIR / 'raw'"
   ]
  },
  {
   "cell_type": "code",
   "execution_count": 2,
   "metadata": {},
   "outputs": [],
   "source": [
    "files = list(raw_dir.glob('Master Project Address List*.xlsx'))\n",
    "files.sort()\n",
    "\n",
    "file_path = files[-1]"
   ]
  },
  {
   "cell_type": "code",
   "execution_count": 3,
   "metadata": {},
   "outputs": [],
   "source": [
    "data = pd.read_excel(file_path, sheet_name=['E911 Data', 'Phase_I', 'Phase_II', 'Phase_III'])"
   ]
  },
  {
   "cell_type": "code",
   "execution_count": 4,
   "metadata": {},
   "outputs": [],
   "source": [
    "df_e911 = data['E911 Data']\n",
    "main_df = data['Phase_I']"
   ]
  },
  {
   "cell_type": "code",
   "execution_count": 5,
   "metadata": {},
   "outputs": [
    {
     "data": {
      "text/html": [
       "<div>\n",
       "<style scoped>\n",
       "    .dataframe tbody tr th:only-of-type {\n",
       "        vertical-align: middle;\n",
       "    }\n",
       "\n",
       "    .dataframe tbody tr th {\n",
       "        vertical-align: top;\n",
       "    }\n",
       "\n",
       "    .dataframe thead th {\n",
       "        text-align: right;\n",
       "    }\n",
       "</style>\n",
       "<table border=\"1\" class=\"dataframe\">\n",
       "  <thead>\n",
       "    <tr style=\"text-align: right;\">\n",
       "      <th></th>\n",
       "      <th>OBJECTID</th>\n",
       "      <th>REF</th>\n",
       "      <th>ESITEID</th>\n",
       "      <th>Build Phase</th>\n",
       "      <th>ADDRESS</th>\n",
       "      <th>E911 ADDRESS</th>\n",
       "      <th>OWNER 1</th>\n",
       "      <th>OWNER 2</th>\n",
       "      <th>GRAND LIST ADDRESS</th>\n",
       "      <th>GRAND LIST = ADDRESS</th>\n",
       "      <th>...</th>\n",
       "      <th>COL_R</th>\n",
       "      <th>COL_S</th>\n",
       "      <th>COL_T</th>\n",
       "      <th>COL_U</th>\n",
       "      <th>COL_V</th>\n",
       "      <th>COL_W</th>\n",
       "      <th>COL_X</th>\n",
       "      <th>COL_Y</th>\n",
       "      <th>GNS Area</th>\n",
       "      <th>Construction Status</th>\n",
       "    </tr>\n",
       "  </thead>\n",
       "  <tbody>\n",
       "    <tr>\n",
       "      <th>0</th>\n",
       "      <td>1547</td>\n",
       "      <td>1547</td>\n",
       "      <td>78274</td>\n",
       "      <td>Phase 1</td>\n",
       "      <td>114 S BINGHAM ST</td>\n",
       "      <td>114 S BINGHAM ST</td>\n",
       "      <td>114 S BINGHAM LLC</td>\n",
       "      <td>(QUINTTUS)</td>\n",
       "      <td>15  ASHLAND AVE</td>\n",
       "      <td>N</td>\n",
       "      <td>...</td>\n",
       "      <td>NaN</td>\n",
       "      <td>NaN</td>\n",
       "      <td>NaN</td>\n",
       "      <td>NaN</td>\n",
       "      <td>NaN</td>\n",
       "      <td>NaN</td>\n",
       "      <td>NaN</td>\n",
       "      <td>NaN</td>\n",
       "      <td>NaN</td>\n",
       "      <td>Included</td>\n",
       "    </tr>\n",
       "    <tr>\n",
       "      <th>1</th>\n",
       "      <td>1316</td>\n",
       "      <td>1316</td>\n",
       "      <td>139583</td>\n",
       "      <td>Phase 1</td>\n",
       "      <td>1896 OLD JERUSALEM RD</td>\n",
       "      <td>1896 OLD JERUSALEM RD</td>\n",
       "      <td>80 GOATS INC</td>\n",
       "      <td></td>\n",
       "      <td>2001 OLD JERUSALEM RD</td>\n",
       "      <td>N</td>\n",
       "      <td>...</td>\n",
       "      <td>NaN</td>\n",
       "      <td>NaN</td>\n",
       "      <td>NaN</td>\n",
       "      <td>NaN</td>\n",
       "      <td>NaN</td>\n",
       "      <td>NaN</td>\n",
       "      <td>NaN</td>\n",
       "      <td>1.0</td>\n",
       "      <td>NaN</td>\n",
       "      <td>Included</td>\n",
       "    </tr>\n",
       "    <tr>\n",
       "      <th>2</th>\n",
       "      <td>189</td>\n",
       "      <td>189</td>\n",
       "      <td>184321</td>\n",
       "      <td>Phase 1</td>\n",
       "      <td>14 CHURCH ST</td>\n",
       "      <td>14 CHURCH ST</td>\n",
       "      <td>ABBOTT JACOB</td>\n",
       "      <td>ABBOTT KAREN LYNN</td>\n",
       "      <td>14 CHURCH ST</td>\n",
       "      <td>Y</td>\n",
       "      <td>...</td>\n",
       "      <td>NaN</td>\n",
       "      <td>NaN</td>\n",
       "      <td>NaN</td>\n",
       "      <td>NaN</td>\n",
       "      <td>NaN</td>\n",
       "      <td>NaN</td>\n",
       "      <td>NaN</td>\n",
       "      <td>NaN</td>\n",
       "      <td>NaN</td>\n",
       "      <td>Included</td>\n",
       "    </tr>\n",
       "    <tr>\n",
       "      <th>3</th>\n",
       "      <td>1382</td>\n",
       "      <td>1382</td>\n",
       "      <td>78171</td>\n",
       "      <td>Phase 1</td>\n",
       "      <td>24 PARK LN</td>\n",
       "      <td>24 PARK Ln</td>\n",
       "      <td>ABEL WILLA &amp; SIMON</td>\n",
       "      <td></td>\n",
       "      <td>24 PARK LN</td>\n",
       "      <td>Y</td>\n",
       "      <td>...</td>\n",
       "      <td>NaN</td>\n",
       "      <td>NaN</td>\n",
       "      <td>NaN</td>\n",
       "      <td>NaN</td>\n",
       "      <td>NaN</td>\n",
       "      <td>NaN</td>\n",
       "      <td>NaN</td>\n",
       "      <td>NaN</td>\n",
       "      <td>GoNetSpeed</td>\n",
       "      <td>Excluded</td>\n",
       "    </tr>\n",
       "    <tr>\n",
       "      <th>4</th>\n",
       "      <td>328</td>\n",
       "      <td>328</td>\n",
       "      <td>216370</td>\n",
       "      <td>Phase 1</td>\n",
       "      <td>156 MIDDLE RD</td>\n",
       "      <td>156 MIDDLE RD</td>\n",
       "      <td>ACCIAVIATTI BRUCE</td>\n",
       "      <td>SMITH COLLEEN</td>\n",
       "      <td>156 MIDDLE RD</td>\n",
       "      <td>Y</td>\n",
       "      <td>...</td>\n",
       "      <td>1.0</td>\n",
       "      <td>NaN</td>\n",
       "      <td>NaN</td>\n",
       "      <td>NaN</td>\n",
       "      <td>NaN</td>\n",
       "      <td>NaN</td>\n",
       "      <td>NaN</td>\n",
       "      <td>1.0</td>\n",
       "      <td>NaN</td>\n",
       "      <td>Included</td>\n",
       "    </tr>\n",
       "  </tbody>\n",
       "</table>\n",
       "<p>5 rows × 34 columns</p>\n",
       "</div>"
      ],
      "text/plain": [
       "   OBJECTID   REF  ESITEID Build Phase                ADDRESS  \\\n",
       "0      1547  1547    78274     Phase 1       114 S BINGHAM ST   \n",
       "1      1316  1316   139583     Phase 1  1896 OLD JERUSALEM RD   \n",
       "2       189   189   184321     Phase 1           14 CHURCH ST   \n",
       "3      1382  1382    78171     Phase 1             24 PARK LN   \n",
       "4       328   328   216370     Phase 1          156 MIDDLE RD   \n",
       "\n",
       "            E911 ADDRESS             OWNER 1            OWNER 2  \\\n",
       "0       114 S BINGHAM ST   114 S BINGHAM LLC         (QUINTTUS)   \n",
       "1  1896 OLD JERUSALEM RD        80 GOATS INC                      \n",
       "2           14 CHURCH ST        ABBOTT JACOB  ABBOTT KAREN LYNN   \n",
       "3             24 PARK Ln  ABEL WILLA & SIMON                      \n",
       "4          156 MIDDLE RD   ACCIAVIATTI BRUCE      SMITH COLLEEN   \n",
       "\n",
       "     GRAND LIST ADDRESS  GRAND LIST = ADDRESS  ... COL_R COL_S  COL_T COL_U  \\\n",
       "0        15  ASHLAND AVE                    N  ...   NaN   NaN    NaN   NaN   \n",
       "1  2001 OLD JERUSALEM RD                    N  ...   NaN   NaN    NaN   NaN   \n",
       "2           14 CHURCH ST                    Y  ...   NaN   NaN    NaN   NaN   \n",
       "3             24 PARK LN                    Y  ...   NaN   NaN    NaN   NaN   \n",
       "4          156 MIDDLE RD                    Y  ...   1.0   NaN    NaN   NaN   \n",
       "\n",
       "  COL_V COL_W COL_X  COL_Y    GNS Area Construction Status  \n",
       "0   NaN   NaN   NaN    NaN         NaN            Included  \n",
       "1   NaN   NaN   NaN    1.0         NaN            Included  \n",
       "2   NaN   NaN   NaN    NaN         NaN            Included  \n",
       "3   NaN   NaN   NaN    NaN  GoNetSpeed            Excluded  \n",
       "4   NaN   NaN   NaN    1.0         NaN            Included  \n",
       "\n",
       "[5 rows x 34 columns]"
      ]
     },
     "execution_count": 5,
     "metadata": {},
     "output_type": "execute_result"
    }
   ],
   "source": [
    "main_df.head()"
   ]
  },
  {
   "cell_type": "code",
   "execution_count": 6,
   "metadata": {},
   "outputs": [
    {
     "data": {
      "text/plain": [
       "Index(['OBJECTID_1', 'E911 ADDRESS', 'OBJECTID', 'OWNER 1', 'OWNER 2',\n",
       "       'GRAND LIST ADDRESS ', 'GRAND LIST CITY', 'GRAND LIST STATE',\n",
       "       'GRAND LIST ZIPCODE', 'SPAN', 'GLIST_SPAN', 'MAPID', 'PARCID',\n",
       "       'PROPTYPE', 'YEAR', 'GLYEAR', 'TOWN', 'TNAME', 'SOURCENAME',\n",
       "       'SOURCETYPE', 'SOURCEDATE', 'EDITMETHOD', 'EDITOR', 'EDITDATE',\n",
       "       'MATCHSTAT', 'EDITNOTE', 'ADDRGL2', 'DESCPROP', 'LOCAPROP', 'CAT',\n",
       "       'RESCODE', 'ACRESGL', 'REAL_FLV', 'HSTED_FLV', 'NRES_FLV', 'LAND_LV',\n",
       "       'IMPRV_LV', 'EQUIPVAL', 'EQUIPCODE', 'INVENVAL', 'HSDECL', 'HSITEVAL',\n",
       "       'VETEXAMT', 'EXPDESC', 'ENDDATE', 'STATUTE', 'EXAMT_HS', 'EXAMT_NR',\n",
       "       'UVREDUC_HS', 'UVREDUC_NR', 'GLVAL_HS', 'GLVAL_NR', 'CRHOUSPCT',\n",
       "       'MUNGL1PCT', 'AOEGL_HS', 'AOEGL_NR', 'SHAPESTAre', 'SHAPESTLen',\n",
       "       'Shape_Length', 'Shape_Area'],\n",
       "      dtype='object')"
      ]
     },
     "execution_count": 6,
     "metadata": {},
     "output_type": "execute_result"
    }
   ],
   "source": [
    "df_e911.columns"
   ]
  },
  {
   "cell_type": "code",
   "execution_count": 7,
   "metadata": {},
   "outputs": [
    {
     "data": {
      "text/plain": [
       "0                32 BOOTH WOODS\n",
       "1                        8 E St\n",
       "2                  73 SCHOOL St\n",
       "3                   206 MAIN St\n",
       "4                   224 MAIN St\n",
       "                  ...          \n",
       "17430    574 ROBEROUTE YOUNG RD\n",
       "17431                          \n",
       "17432          151 VT R0UTE 116\n",
       "17433         71 SPRING HILL Ln\n",
       "17434               14 TATRO RD\n",
       "Name: E911 ADDRESS, Length: 17435, dtype: object"
      ]
     },
     "execution_count": 7,
     "metadata": {},
     "output_type": "execute_result"
    }
   ],
   "source": [
    "df_e911['E911 ADDRESS']"
   ]
  },
  {
   "cell_type": "code",
   "execution_count": 8,
   "metadata": {},
   "outputs": [],
   "source": [
    "sents = df_e911['E911 ADDRESS'].tolist()"
   ]
  },
  {
   "cell_type": "code",
   "execution_count": 63,
   "metadata": {},
   "outputs": [],
   "source": [
    "from gensim.utils import tokenize\n",
    "\n",
    "cleaned_sents = []\n",
    "for address in sents:\n",
    "    temp = ''.join([char.lower() for char in address if not char.isdigit()]).strip()\n",
    "    if len(temp) > 0:\n",
    "        cleaned_sents.append(temp)\n",
    "\n",
    "class GenerateSentences:\n",
    "    def __iter__(self):\n",
    "        for wrds in cleaned_sents:\n",
    "            yield list(tokenize(wrds))"
   ]
  },
  {
   "cell_type": "code",
   "execution_count": 64,
   "metadata": {},
   "outputs": [
    {
     "name": "stdout",
     "output_type": "stream",
     "text": [
      "FastText<vocab=1055, vector_size=4, alpha=0.025>\n"
     ]
    }
   ],
   "source": [
    "from gensim.models.fasttext import FastText\n",
    "\n",
    "VEC_SIZE = 4\n",
    "\n",
    "model = FastText(vector_size=VEC_SIZE, window=3, min_count=1)\n",
    "\n",
    "# build the vocabulary\n",
    "model.build_vocab(corpus_iterable=GenerateSentences())\n",
    "\n",
    "# train the model\n",
    "model.train(\n",
    "    corpus_iterable=GenerateSentences(), epochs=model.epochs,\n",
    "    total_examples=model.corpus_count, total_words=model.corpus_total_words,\n",
    ")\n",
    "\n",
    "print(model)"
   ]
  },
  {
   "cell_type": "code",
   "execution_count": 65,
   "metadata": {},
   "outputs": [
    {
     "name": "stdout",
     "output_type": "stream",
     "text": [
      "FastTextKeyedVectors<vector_size=4, 1055 keys>\n"
     ]
    }
   ],
   "source": [
    "wv = model.wv\n",
    "print(wv)"
   ]
  },
  {
   "cell_type": "code",
   "execution_count": 66,
   "metadata": {},
   "outputs": [
    {
     "data": {
      "text/plain": [
       "False"
      ]
     },
     "execution_count": 66,
     "metadata": {},
     "output_type": "execute_result"
    }
   ],
   "source": [
    "any([len(b.strip())==0 for b in cleaned_sents])"
   ]
  },
  {
   "cell_type": "code",
   "execution_count": 67,
   "metadata": {},
   "outputs": [],
   "source": [
    "from gensim.models.keyedvectors import KeyedVectors\n",
    "\n",
    "address_vectors = KeyedVectors(vector_size=VEC_SIZE, count=len(cleaned_sents))\n",
    "\n",
    "emb_vector = np.empty((len(cleaned_sents), VEC_SIZE))\n",
    "for idx, address in enumerate(cleaned_sents):\n",
    "    emb_vector[idx, :] = wv.get_sentence_vector(address)\n",
    "\n",
    "address_vectors.add_vectors(cleaned_sents, emb_vector, replace=True)"
   ]
  },
  {
   "cell_type": "code",
   "execution_count": 68,
   "metadata": {},
   "outputs": [
    {
     "data": {
      "text/plain": [
       "array([ 0.11017409, -0.0866404 ,  0.07866299, -0.2764223 ], dtype=float32)"
      ]
     },
     "execution_count": 68,
     "metadata": {},
     "output_type": "execute_result"
    }
   ],
   "source": [
    "wv.get_sentence_vector('114 S BINGHAM ST')"
   ]
  },
  {
   "cell_type": "code",
   "execution_count": 75,
   "metadata": {},
   "outputs": [
    {
     "name": "stderr",
     "output_type": "stream",
     "text": [
      "/home/jboyer/projects/maple-broadband/.venv/lib/python3.8/site-packages/gensim/models/keyedvectors.py:850: RuntimeWarning: invalid value encountered in divide\n",
      "  dists = dot(self.vectors[clip_start:clip_end], mean) / self.norms[clip_start:clip_end]\n"
     ]
    },
    {
     "data": {
      "text/plain": [
       "[('fisher hill rd', 1.0),\n",
       " ('off churchviille rd', 0.940300464630127),\n",
       " ('bishop hill rd', 0.9382767081260681),\n",
       " ('bishop hill rd', 0.9382767081260681),\n",
       " ('bishop hill rd', 0.9382767081260681),\n",
       " ('bishop hill rd', 0.9382767081260681),\n",
       " ('bishop hill rd', 0.9382767081260681),\n",
       " ('bishop hill rd', 0.9382767081260681),\n",
       " ('bishop hill rd', 0.9382767081260681),\n",
       " ('bishop hill rd', 0.9382767081260681)]"
      ]
     },
     "execution_count": 75,
     "metadata": {},
     "output_type": "execute_result"
    }
   ],
   "source": [
    "address_vectors.most_similar(wv.get_sentence_vector('fisher hill rd'))"
   ]
  },
  {
   "cell_type": "code",
   "execution_count": 74,
   "metadata": {},
   "outputs": [
    {
     "ename": "KeyError",
     "evalue": "\"Key 'fisher hill road' not present\"",
     "output_type": "error",
     "traceback": [
      "\u001b[0;31m---------------------------------------------------------------------------\u001b[0m",
      "\u001b[0;31mKeyError\u001b[0m                                  Traceback (most recent call last)",
      "Cell \u001b[0;32mIn[74], line 1\u001b[0m\n\u001b[0;32m----> 1\u001b[0m address_vectors\u001b[39m.\u001b[39;49mget_index(\u001b[39m'\u001b[39;49m\u001b[39mfisher hill road\u001b[39;49m\u001b[39m'\u001b[39;49m)\n",
      "File \u001b[0;32m~/projects/maple-broadband/.venv/lib/python3.8/site-packages/gensim/models/keyedvectors.py:421\u001b[0m, in \u001b[0;36mKeyedVectors.get_index\u001b[0;34m(self, key, default)\u001b[0m\n\u001b[1;32m    419\u001b[0m     \u001b[39mreturn\u001b[39;00m default\n\u001b[1;32m    420\u001b[0m \u001b[39melse\u001b[39;00m:\n\u001b[0;32m--> 421\u001b[0m     \u001b[39mraise\u001b[39;00m \u001b[39mKeyError\u001b[39;00m(\u001b[39mf\u001b[39m\u001b[39m\"\u001b[39m\u001b[39mKey \u001b[39m\u001b[39m'\u001b[39m\u001b[39m{\u001b[39;00mkey\u001b[39m}\u001b[39;00m\u001b[39m'\u001b[39m\u001b[39m not present\u001b[39m\u001b[39m\"\u001b[39m)\n",
      "\u001b[0;31mKeyError\u001b[0m: \"Key 'fisher hill road' not present\""
     ]
    }
   ],
   "source": [
    "address_vectors.get_index('fisher hill road')"
   ]
  },
  {
   "cell_type": "code",
   "execution_count": null,
   "metadata": {},
   "outputs": [],
   "source": []
  }
 ],
 "metadata": {
  "kernelspec": {
   "display_name": ".venv",
   "language": "python",
   "name": "python3"
  },
  "language_info": {
   "codemirror_mode": {
    "name": "ipython",
    "version": 3
   },
   "file_extension": ".py",
   "mimetype": "text/x-python",
   "name": "python",
   "nbconvert_exporter": "python",
   "pygments_lexer": "ipython3",
   "version": "3.8.10"
  },
  "orig_nbformat": 4,
  "vscode": {
   "interpreter": {
    "hash": "32924aca344d73371e760b93ca5bd49d1499d146f79f6582d0f22d234657ce7d"
   }
  }
 },
 "nbformat": 4,
 "nbformat_minor": 2
}
